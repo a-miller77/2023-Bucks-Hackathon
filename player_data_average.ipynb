{
 "cells": [
  {
   "cell_type": "code",
   "execution_count": 1,
   "id": "31a900c7-00a5-4bb7-b0cc-85924f8ee946",
   "metadata": {
    "tags": []
   },
   "outputs": [],
   "source": [
    "import pandas as pd\n",
    "import numpy as np\n",
    "\n",
    "df = pd.read_csv('base_data/hackathon_data_basketball_2023.csv')"
   ]
  },
  {
   "cell_type": "code",
   "execution_count": 8,
   "id": "f660fd92-836c-48fe-bcfb-f89f7981a2ad",
   "metadata": {
    "tags": []
   },
   "outputs": [
    {
     "data": {
      "text/html": [
       "<div>\n",
       "<style scoped>\n",
       "    .dataframe tbody tr th:only-of-type {\n",
       "        vertical-align: middle;\n",
       "    }\n",
       "\n",
       "    .dataframe tbody tr th {\n",
       "        vertical-align: top;\n",
       "    }\n",
       "\n",
       "    .dataframe thead th {\n",
       "        text-align: right;\n",
       "    }\n",
       "</style>\n",
       "<table border=\"1\" class=\"dataframe\">\n",
       "  <thead>\n",
       "    <tr style=\"text-align: right;\">\n",
       "      <th></th>\n",
       "      <th>player_defMatchup_a</th>\n",
       "    </tr>\n",
       "  </thead>\n",
       "  <tbody>\n",
       "    <tr>\n",
       "      <th>0</th>\n",
       "      <td>Lapointe, Uriah</td>\n",
       "    </tr>\n",
       "    <tr>\n",
       "      <th>3792</th>\n",
       "      <td>House, Brandyn</td>\n",
       "    </tr>\n",
       "    <tr>\n",
       "      <th>6800</th>\n",
       "      <td>Lawton, Jeremiah</td>\n",
       "    </tr>\n",
       "    <tr>\n",
       "      <th>10144</th>\n",
       "      <td>Morser, Cheyenne</td>\n",
       "    </tr>\n",
       "    <tr>\n",
       "      <th>13370</th>\n",
       "      <td>Rosser, Michael</td>\n",
       "    </tr>\n",
       "    <tr>\n",
       "      <th>...</th>\n",
       "      <td>...</td>\n",
       "    </tr>\n",
       "    <tr>\n",
       "      <th>326948</th>\n",
       "      <td>Sullivan, Dustyn</td>\n",
       "    </tr>\n",
       "    <tr>\n",
       "      <th>329992</th>\n",
       "      <td>Jelly, Zachery</td>\n",
       "    </tr>\n",
       "    <tr>\n",
       "      <th>333272</th>\n",
       "      <td>Gallegos, Marcus</td>\n",
       "    </tr>\n",
       "    <tr>\n",
       "      <th>336630</th>\n",
       "      <td>Rosser, Nathaniel</td>\n",
       "    </tr>\n",
       "    <tr>\n",
       "      <th>340382</th>\n",
       "      <td>Hyden-Terry, Victor</td>\n",
       "    </tr>\n",
       "  </tbody>\n",
       "</table>\n",
       "<p>100 rows × 1 columns</p>\n",
       "</div>"
      ],
      "text/plain": [
       "        player_defMatchup_a\n",
       "0           Lapointe, Uriah\n",
       "3792         House, Brandyn\n",
       "6800       Lawton, Jeremiah\n",
       "10144      Morser, Cheyenne\n",
       "13370       Rosser, Michael\n",
       "...                     ...\n",
       "326948     Sullivan, Dustyn\n",
       "329992       Jelly, Zachery\n",
       "333272     Gallegos, Marcus\n",
       "336630    Rosser, Nathaniel\n",
       "340382  Hyden-Terry, Victor\n",
       "\n",
       "[100 rows x 1 columns]"
      ]
     },
     "execution_count": 8,
     "metadata": {},
     "output_type": "execute_result"
    }
   ],
   "source": [
    "#Separating all of the player's data into one dataframe\n",
    "player_names = df[[\"player_defMatchup_a\"]]\n",
    "\n",
    "player_names = player_names.drop_duplicates();\n",
    "\n",
    "player_names"
   ]
  },
  {
   "cell_type": "code",
   "execution_count": null,
   "id": "6c349df9-5535-45d1-b77e-c93eb5df4394",
   "metadata": {},
   "outputs": [],
   "source": []
  }
 ],
 "metadata": {
  "kernelspec": {
   "display_name": "Python 3 (ipykernel)",
   "language": "python",
   "name": "python3"
  },
  "language_info": {
   "codemirror_mode": {
    "name": "ipython",
    "version": 3
   },
   "file_extension": ".py",
   "mimetype": "text/x-python",
   "name": "python",
   "nbconvert_exporter": "python",
   "pygments_lexer": "ipython3",
   "version": "3.11.2"
  }
 },
 "nbformat": 4,
 "nbformat_minor": 5
}
