{
 "cells": [
  {
   "cell_type": "code",
   "execution_count": 2,
   "id": "31a900c7-00a5-4bb7-b0cc-85924f8ee946",
   "metadata": {
    "tags": []
   },
   "outputs": [],
   "source": [
    "import pandas as pd\n",
    "import numpy as np\n",
    "\n",
    "df = pd.read_csv('base_data/hackathon_data_basketball_2023.csv')"
   ]
  },
  {
   "cell_type": "code",
   "execution_count": 52,
   "id": "f660fd92-836c-48fe-bcfb-f89f7981a2ad",
   "metadata": {
    "tags": []
   },
   "outputs": [],
   "source": [
    "#Separating all of the player's data into one dataframe\n",
    "player_names = df[[\"player_defMatchup_a\"]]\n",
    "\n",
    "player_names = player_names.drop_duplicates();\n",
    "\n",
    "player_names = player_names.reset_index(drop=True)"
   ]
  },
  {
   "cell_type": "code",
   "execution_count": 53,
   "id": "6c349df9-5535-45d1-b77e-c93eb5df4394",
   "metadata": {},
   "outputs": [
    {
     "name": "stdout",
     "output_type": "stream",
     "text": [
      "25\n"
     ]
    }
   ],
   "source": [
    "#list of all of the different statistics (not including: player names, heights, or possessions\n",
    "player_stats_list = [\n",
    "    \"ptsScored_team\", \n",
    "    \"fga\", \n",
    "    \"fg\", \n",
    "    \"fga3\", \n",
    "    \"fg3\", \n",
    "    \"qSQ\", \n",
    "    \"iso_actions\", \n",
    "    \"iso_pts\", \n",
    "    \"pick_actions\", \n",
    "    \"pick_pts\",\n",
    "    \"post_actions\",\n",
    "    \"post_pts\",\n",
    "    \"offBall_actions\",\n",
    "    \"offBall_pts\",\n",
    "    \"passes\",\n",
    "    \"assistOppCreated\",\n",
    "    \"touches\",\n",
    "    \"touches_direct\",\n",
    "    \"touches_catchAndShoot\",\n",
    "    \"touches_paint\",\n",
    "    \"touches_time\",\n",
    "    \"tov\",\n",
    "    \"fta\",\n",
    "    \"ft_player\",\n",
    "    \"fouls\"\n",
    "]\n",
    "print(len(player_stats_list))\n",
    "\n",
    "player_stats_avg_dict = {\n",
    "    \"avg_ptsScored_team\" : [],\n",
    "    \"avg_fga\" : [],\n",
    "    \"avg_fg\": [], \n",
    "    \"avg_fga3\": [], \n",
    "    \"avg_fg3\" : [], \n",
    "    \"avg_qSQ\" : [], \n",
    "    \"avg_iso_actions\" : [], \n",
    "    \"avg_iso_pts\": [], \n",
    "    \"avg_pick_actions\": [], \n",
    "    \"avg_pick_pts\" : [],\n",
    "    \"avg_post_actions\" : [],\n",
    "    \"avg_post_pts\" : [],\n",
    "    \"avg_offBall_actions\": [],\n",
    "    \"avg_offBall_pts\" : [],\n",
    "    \"avg_passes\" : [],\n",
    "    \"avg_assistOppCreated\" : [],\n",
    "    \"avg_touches\" : [] ,\n",
    "    \"avg_touches_direct\" : [],\n",
    "    \"avg_touches_catchAndShoot\" : [],\n",
    "    \"avg_touches_paint\" : [],\n",
    "    \"avg_touches_time\" :[] ,\n",
    "    \"avg_tov\" : [],\n",
    "    \"avg_fta\" : [],\n",
    "    \"avg_ft_player\" : [] ,\n",
    "    \"avg_fouls\": []\n",
    "}"
   ]
  },
  {
   "cell_type": "code",
   "execution_count": 62,
   "id": "2bd05549-1c0e-4192-8284-91ee894b733b",
   "metadata": {
    "tags": []
   },
   "outputs": [],
   "source": [
    "all_stats_avg = [[] for _ in range(25)]\n",
    "for player in player_names.player_defMatchup_a:\n",
    "    player_data = df[df[\"player_defMatchup_a\"] == player]\n",
    "    curr_player_stats_avg = []\n",
    "    for stat in player_stat_list:\n",
    "        curr_player_stats_avg.append(np.round(player_data[stat].mean(), 3))\n",
    "    \n",
    "    for index in range(len(curr_player_stats_avg)):\n",
    "        all_stats_avg[index].append(curr_player_stats_avg[index])\n",
    "\n",
    "    \n",
    "\"\"\"all_stats_avg is the average of each individual player's stat in several columns, \n",
    "    for example,  index 1 of all_stats_avg is equal to the average of the points \n",
    "    scored on each individual player \"\"\"\n",
    "index = 0;\n",
    "for stat in player_stats_avg_dict:\n",
    "    player_stats_avg_dict[stat] = all_stats_avg[index]\n",
    "    index+=1\n",
    "\n",
    "avg_stats = pd.DataFrame.from_dict(player_stats_avg_dict)\n",
    "    \n",
    "player_averages = pd.concat([player_names,avg_stats],axis=1, join='outer')\n",
    "player_averages\n",
    "    \n",
    "        \n",
    "#player_averages.to_csv('player_averages.csv')\n",
    "       "
   ]
  },
  {
   "cell_type": "code",
   "execution_count": null,
   "id": "6e24a5d2-3bb7-4c24-9122-e338016e4f01",
   "metadata": {},
   "outputs": [],
   "source": []
  },
  {
   "cell_type": "code",
   "execution_count": null,
   "id": "65b35aa3-7b25-4797-9025-1cd684f2ebc0",
   "metadata": {},
   "outputs": [],
   "source": []
  }
 ],
 "metadata": {
  "kernelspec": {
   "display_name": "Python 3 (ipykernel)",
   "language": "python",
   "name": "python3"
  },
  "language_info": {
   "codemirror_mode": {
    "name": "ipython",
    "version": 3
   },
   "file_extension": ".py",
   "mimetype": "text/x-python",
   "name": "python",
   "nbconvert_exporter": "python",
   "pygments_lexer": "ipython3",
   "version": "3.11.2"
  }
 },
 "nbformat": 4,
 "nbformat_minor": 5
}
