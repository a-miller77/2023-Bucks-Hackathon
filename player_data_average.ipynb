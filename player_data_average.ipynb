{
 "cells": [
  {
   "cell_type": "code",
   "execution_count": 34,
   "id": "31a900c7-00a5-4bb7-b0cc-85924f8ee946",
   "metadata": {
    "tags": []
   },
   "outputs": [],
   "source": [
    "import pandas as pd\n",
    "import numpy as np\n",
    "\n",
    "df = pd.read_csv('base_data/hackathon_data_basketball_2023.csv')"
   ]
  },
  {
   "cell_type": "code",
   "execution_count": 41,
   "id": "f660fd92-836c-48fe-bcfb-f89f7981a2ad",
   "metadata": {
    "tags": []
   },
   "outputs": [
    {
     "ename": "AttributeError",
     "evalue": "'DataFrame' object has no attribute 'Series'",
     "output_type": "error",
     "traceback": [
      "\u001b[1;31m---------------------------------------------------------------------------\u001b[0m",
      "\u001b[1;31mAttributeError\u001b[0m                            Traceback (most recent call last)",
      "Cell \u001b[1;32mIn[41], line 2\u001b[0m\n\u001b[0;32m      1\u001b[0m \u001b[39m#Separating all of the player's data into one dataframe\u001b[39;00m\n\u001b[1;32m----> 2\u001b[0m player_names \u001b[39m=\u001b[39m df\u001b[39m.\u001b[39;49mSeries(df[\u001b[39m\"\u001b[39m\u001b[39mplayer_defMatchup_a\u001b[39m\u001b[39m\"\u001b[39m])\n\u001b[0;32m      4\u001b[0m player_names \u001b[39m=\u001b[39m player_names\u001b[39m.\u001b[39mdrop_duplicates();\n\u001b[0;32m      6\u001b[0m player_names \u001b[39m=\u001b[39m player_names\u001b[39m.\u001b[39mreset_index(drop\u001b[39m=\u001b[39m\u001b[39mTrue\u001b[39;00m)\n",
      "File \u001b[1;32mf:\\ProgramFiles\\BucksHackathon\\2023-Bucks-Hackathon\\.venv\\lib\\site-packages\\pandas\\core\\generic.py:5902\u001b[0m, in \u001b[0;36mNDFrame.__getattr__\u001b[1;34m(self, name)\u001b[0m\n\u001b[0;32m   5895\u001b[0m \u001b[39mif\u001b[39;00m (\n\u001b[0;32m   5896\u001b[0m     name \u001b[39mnot\u001b[39;00m \u001b[39min\u001b[39;00m \u001b[39mself\u001b[39m\u001b[39m.\u001b[39m_internal_names_set\n\u001b[0;32m   5897\u001b[0m     \u001b[39mand\u001b[39;00m name \u001b[39mnot\u001b[39;00m \u001b[39min\u001b[39;00m \u001b[39mself\u001b[39m\u001b[39m.\u001b[39m_metadata\n\u001b[0;32m   5898\u001b[0m     \u001b[39mand\u001b[39;00m name \u001b[39mnot\u001b[39;00m \u001b[39min\u001b[39;00m \u001b[39mself\u001b[39m\u001b[39m.\u001b[39m_accessors\n\u001b[0;32m   5899\u001b[0m     \u001b[39mand\u001b[39;00m \u001b[39mself\u001b[39m\u001b[39m.\u001b[39m_info_axis\u001b[39m.\u001b[39m_can_hold_identifiers_and_holds_name(name)\n\u001b[0;32m   5900\u001b[0m ):\n\u001b[0;32m   5901\u001b[0m     \u001b[39mreturn\u001b[39;00m \u001b[39mself\u001b[39m[name]\n\u001b[1;32m-> 5902\u001b[0m \u001b[39mreturn\u001b[39;00m \u001b[39mobject\u001b[39;49m\u001b[39m.\u001b[39;49m\u001b[39m__getattribute__\u001b[39;49m(\u001b[39mself\u001b[39;49m, name)\n",
      "\u001b[1;31mAttributeError\u001b[0m: 'DataFrame' object has no attribute 'Series'"
     ]
    }
   ],
   "source": [
    "#Separating all of the player's data into one dataframe\n",
    "player_names = df.Series(df[\"player_defMatchup_a\"])\n",
    "\n",
    "player_names = player_names.drop_duplicates();\n",
    "\n",
    "player_names = player_names.reset_index(drop=True)\n",
    "\n",
    "df"
   ]
  },
  {
   "cell_type": "code",
   "execution_count": 36,
   "id": "6c349df9-5535-45d1-b77e-c93eb5df4394",
   "metadata": {},
   "outputs": [
    {
     "name": "stdout",
     "output_type": "stream",
     "text": [
      "25\n"
     ]
    }
   ],
   "source": [
    "#list of all of the different statistics (not including: player names, heights, or possessions\n",
    "player_stats_list = [\n",
    "    \"ptsScored_team\", \n",
    "    \"fga\", \n",
    "    \"fg\", \n",
    "    \"fga3\", \n",
    "    \"fg3\", \n",
    "    \"qSQ\", \n",
    "    \"iso_actions\", \n",
    "    \"iso_pts\", \n",
    "    \"pick_actions\", \n",
    "    \"pick_pts\",\n",
    "    \"post_actions\",\n",
    "    \"post_pts\",\n",
    "    \"offBall_actions\",\n",
    "    \"offBall_pts\",\n",
    "    \"passes\",\n",
    "    \"assistOppCreated\",\n",
    "    \"touches\",\n",
    "    \"touches_direct\",\n",
    "    \"touches_catchAndShoot\",\n",
    "    \"touches_paint\",\n",
    "    \"touches_time\",\n",
    "    \"tov\",\n",
    "    \"fta\",\n",
    "    \"ft_player\",\n",
    "    \"fouls\"\n",
    "]\n",
    "print(len(player_stats_list))\n",
    "\n",
    "# Dictionary that will contain all of the data for the players\n",
    "player_stats_avg_dict = {\n",
    "    \"avg_ptsScored_team\" : [],\n",
    "    \"avg_fga\" : [],\n",
    "    \"avg_fg\": [], \n",
    "    \"avg_fga3\": [], \n",
    "    \"avg_fg3\" : [], \n",
    "    \"avg_qSQ\" : [], \n",
    "    \"avg_iso_actions\" : [], \n",
    "    \"avg_iso_pts\": [], \n",
    "    \"avg_pick_actions\": [], \n",
    "    \"avg_pick_pts\" : [],\n",
    "    \"avg_post_actions\" : [],\n",
    "    \"avg_post_pts\" : [],\n",
    "    \"avg_offBall_actions\": [],\n",
    "    \"avg_offBall_pts\" : [],\n",
    "    \"avg_passes\" : [],\n",
    "    \"avg_assistOppCreated\" : [],\n",
    "    \"avg_touches\" : [] ,\n",
    "    \"avg_touches_direct\" : [],\n",
    "    \"avg_touches_catchAndShoot\" : [],\n",
    "    \"avg_touches_paint\" : [],\n",
    "    \"avg_touches_time\" :[] ,\n",
    "    \"avg_tov\" : [],\n",
    "    \"avg_fta\" : [],\n",
    "    \"avg_ft_player\" : [] ,\n",
    "    \"avg_fouls\": []\n",
    "}\n",
    "\n",
    "do_not_change_na = [\n",
    "    \"iso_pts\",\n",
    "    \"pick_pts\",\n",
    "    \"post_pts\",\n",
    "    \"offBall_pts\",\n",
    "    \"touches_time\"\n",
    "]"
   ]
  },
  {
   "cell_type": "code",
   "execution_count": 47,
   "id": "9c5dc235-9ff0-42ff-882e-9936dee6aa09",
   "metadata": {
    "tags": []
   },
   "outputs": [],
   "source": [
    "\"\"\" This function gathers all of the players' average for each stat across all of their\n",
    "matchups, and stores those stats into one list, called curr_player_stats\"\"\"\n",
    "\n",
    "all_stats_avg = [[] for _ in range(25)]\n",
    "for player in player_names.player_defMatchup_a:\n",
    "    player_data = df[df[\"player_defMatchup_a\"] == player]\n",
    "    curr_player_stats_avg = []\n",
    "    for stat in player_stats_list:\n",
    "        if stat not in do_not_change_na:\n",
    "            player_data.loc[:,f'{stat}'].fillna(0)\n",
    "        curr_player_stats_avg.append(np.round(np.nanmean(player_data[stat]), 3))\n",
    "    \n",
    "    for index in range(len(curr_player_stats_avg)):\n",
    "        all_stats_avg[index].append(curr_player_stats_avg[index])"
   ]
  },
  {
   "cell_type": "code",
   "execution_count": 38,
   "id": "9970714c-713e-467a-958f-c7f6b72352df",
   "metadata": {
    "tags": []
   },
   "outputs": [],
   "source": [
    "\"\"\"all_stats_avg is the average of each individual player's stat in several columns, \n",
    "    for example,  index 1 of all_stats_avg is equal to the average of the points \n",
    "    scored on each individual player. each individual stat list is then matched with it's respective \n",
    "      \"\"\"\n",
    "index = 0;\n",
    "for stat in player_stats_avg_dict:\n",
    "    player_stats_avg_dict[stat] = all_stats_avg[index]\n",
    "    index+=1\n",
    "\n",
    "avg_stats = pd.DataFrame.from_dict(player_stats_avg_dict)\n",
    "    \n",
    "player_averages = pd.concat([player_names,avg_stats], axis=1, join=\"outer\")\n",
    "player_averages\n",
    "    \n",
    "        \n",
    "#player_averages.to_csv('filtered_sets/player_averages.csv')\n",
    "       "
   ]
  },
  {
   "cell_type": "code",
   "execution_count": null,
   "id": "c9fc9c74",
   "metadata": {},
   "outputs": [],
   "source": []
  }
 ],
 "metadata": {
  "kernelspec": {
   "display_name": "Python 3 (ipykernel)",
   "language": "python",
   "name": "python3"
  },
  "language_info": {
   "codemirror_mode": {
    "name": "ipython",
    "version": 3
   },
   "file_extension": ".py",
   "mimetype": "text/x-python",
   "name": "python",
   "nbconvert_exporter": "python",
   "pygments_lexer": "ipython3",
   "version": "3.10.2"
  }
 },
 "nbformat": 4,
 "nbformat_minor": 5
}
