{
 "cells": [
  {
   "cell_type": "code",
   "execution_count": 1,
   "metadata": {},
   "outputs": [
    {
     "data": {
      "text/plain": [
       "<bound method NDFrame.head of       Unnamed: 0  player_defMatchup_a    player_off_a  player_off_ht  \\\n",
       "0            511      Lapointe, Uriah  Nading, Samuel             79   \n",
       "1            874      Lapointe, Uriah  Nading, Samuel             79   \n",
       "2            883      Lapointe, Uriah  Nading, Samuel             79   \n",
       "3           1339      Lapointe, Uriah  Nading, Samuel             79   \n",
       "4           1575      Lapointe, Uriah  Nading, Samuel             79   \n",
       "...          ...                  ...             ...            ...   \n",
       "1664      341872  Hyden-Terry, Victor  Nading, Samuel             79   \n",
       "1665      342664  Hyden-Terry, Victor  Nading, Samuel             79   \n",
       "1666      342778  Hyden-Terry, Victor  Nading, Samuel             79   \n",
       "1667      343287  Hyden-Terry, Victor  Nading, Samuel             79   \n",
       "1668      343305  Hyden-Terry, Victor  Nading, Samuel             79   \n",
       "\n",
       "      player_defMatchup_ht  poss  ptsScored_team  fga   fg  fga3  ...  \\\n",
       "0                       81     1               0  NaN  NaN   NaN  ...   \n",
       "1                       81     1               0  NaN  NaN   NaN  ...   \n",
       "2                       81     1               0  1.0  0.0   0.0  ...   \n",
       "3                       81     1               2  1.0  1.0   0.0  ...   \n",
       "4                       81     1               0  1.0  0.0   0.0  ...   \n",
       "...                    ...   ...             ...  ...  ...   ...  ...   \n",
       "1664                    84     1               2  0.0  0.0   0.0  ...   \n",
       "1665                    84     1               3  1.0  1.0   1.0  ...   \n",
       "1666                    84     1               0  1.0  0.0   1.0  ...   \n",
       "1667                    84     1               3  NaN  NaN   NaN  ...   \n",
       "1668                    84     1               3  1.0  1.0   0.0  ...   \n",
       "\n",
       "      assistOppCreated  touches  touches_direct  touches_catchAndShoot  \\\n",
       "0                  1.0      2.0             1.0                    0.0   \n",
       "1                  0.0      1.0             0.0                    0.0   \n",
       "2                  NaN      1.0             1.0                    0.0   \n",
       "3                  NaN      1.0             1.0                    0.0   \n",
       "4                  NaN      1.0             1.0                    0.0   \n",
       "...                ...      ...             ...                    ...   \n",
       "1664               NaN      1.0             1.0                    0.0   \n",
       "1665               NaN      1.0             1.0                    0.0   \n",
       "1666               0.0      3.0             2.0                    0.0   \n",
       "1667               0.0      2.0             0.0                    0.0   \n",
       "1668               NaN      1.0             1.0                    0.0   \n",
       "\n",
       "      touches_paint  touches_time  tov  fta  ft_player  fouls  \n",
       "0               0.0          6.84  NaN  NaN        NaN    NaN  \n",
       "1               0.0         14.92  NaN  NaN        NaN    NaN  \n",
       "2               0.0         21.44  NaN  NaN        NaN    NaN  \n",
       "3               0.0         11.72  NaN  NaN        NaN    NaN  \n",
       "4               0.0         15.44  NaN  NaN        NaN    NaN  \n",
       "...             ...           ...  ...  ...        ...    ...  \n",
       "1664            0.0         13.76  NaN  2.0        2.0    1.0  \n",
       "1665            0.0          7.48  NaN  NaN        NaN    NaN  \n",
       "1666            0.0          6.13  NaN  2.0        0.0    1.0  \n",
       "1667            0.0          2.54  NaN  NaN        NaN    NaN  \n",
       "1668            0.0          4.92  NaN  1.0        1.0    1.0  \n",
       "\n",
       "[1669 rows x 31 columns]>"
      ]
     },
     "execution_count": 1,
     "metadata": {},
     "output_type": "execute_result"
    }
   ],
   "source": [
    "# same as player_data_average but with Samuel Nading only\n",
    "import pandas as pd\n",
    "import numpy as np\n",
    "\n",
    "nading_only = pd.read_csv('filtered_sets/only_nading_matchups.csv')\n",
    "\n",
    "nading_only.head"
   ]
  },
  {
   "cell_type": "code",
   "execution_count": 3,
   "metadata": {},
   "outputs": [
    {
     "name": "stdout",
     "output_type": "stream",
     "text": [
      "(88, 3)\n"
     ]
    },
    {
     "data": {
      "text/plain": [
       "<bound method NDFrame.head of     index  player_defMatchup_a  player_defMatchup_ht\n",
       "0       0      Lapointe, Uriah                    81\n",
       "1       8       House, Brandyn                    76\n",
       "2      13     Lawton, Jeremiah                    81\n",
       "3      22     Morser, Cheyenne                    79\n",
       "4      92      Rosser, Michael                    82\n",
       "..    ...                  ...                   ...\n",
       "83   1622  Schubert, Christian                    76\n",
       "84   1634     Sullivan, Dustyn                    78\n",
       "85   1645       Jelly, Zachery                    77\n",
       "86   1659    Rosser, Nathaniel                    73\n",
       "87   1662  Hyden-Terry, Victor                    84\n",
       "\n",
       "[88 rows x 3 columns]>"
      ]
     },
     "execution_count": 3,
     "metadata": {},
     "output_type": "execute_result"
    }
   ],
   "source": [
    "#Separating all of the player's data into one dataframe\n",
    "players = nading_only[[\"player_defMatchup_a\", \"player_defMatchup_ht\"]]\n",
    "players = players.drop_duplicates()\n",
    "players = players.reset_index()\n",
    "print(np.shape(players))\n",
    "players.head"
   ]
  },
  {
   "cell_type": "code",
   "execution_count": null,
   "metadata": {},
   "outputs": [
    {
     "name": "stdout",
     "output_type": "stream",
     "text": [
      "26\n"
     ]
    }
   ],
   "source": [
    "#list of all of the different statistics (not including: player names, heights, or possessions\n",
    "player_stats_list = [\n",
    "    \"player_off_ht\",\n",
    "    \"ptsScored_team\", \n",
    "    \"fga\", \n",
    "    \"fg\", \n",
    "    \"fga3\", \n",
    "    \"fg3\", \n",
    "    \"qSQ\", \n",
    "    \"iso_actions\", \n",
    "    \"iso_pts\", \n",
    "    \"pick_actions\", \n",
    "    \"pick_pts\",\n",
    "    \"post_actions\",\n",
    "    \"post_pts\",\n",
    "    \"offBall_actions\",\n",
    "    \"offBall_pts\",\n",
    "    \"passes\",\n",
    "    \"assistOppCreated\",\n",
    "    \"touches\",\n",
    "    \"touches_direct\",\n",
    "    \"touches_catchAndShoot\",\n",
    "    \"touches_paint\",\n",
    "    \"touches_time\",\n",
    "    \"tov\",\n",
    "    \"fta\",\n",
    "    \"ft_player\",\n",
    "    \"fouls\"\n",
    "]\n",
    "print(len(player_stats_list))\n",
    "\n",
    "# Dictionary that will contain all of the data for the players\n",
    "player_stats_avg_dict = {\n",
    "    \"avg_ptsScored_team\" : [],\n",
    "    \"avg_fga\" : [],\n",
    "    \"avg_fg\": [], \n",
    "    \"avg_fga3\": [], \n",
    "    \"avg_fg3\" : [], \n",
    "    \"avg_qSQ\" : [], \n",
    "    \"avg_iso_actions\" : [], \n",
    "    \"avg_iso_pts\": [], \n",
    "    \"avg_pick_actions\": [], \n",
    "    \"avg_pick_pts\" : [],\n",
    "    \"avg_post_actions\" : [],\n",
    "    \"avg_post_pts\" : [],\n",
    "    \"avg_offBall_actions\": [],\n",
    "    \"avg_offBall_pts\" : [],\n",
    "    \"avg_passes\" : [],\n",
    "    \"avg_assistOppCreated\" : [],\n",
    "    \"avg_touches\" : [] ,\n",
    "    \"avg_touches_direct\" : [],\n",
    "    \"avg_touches_catchAndShoot\" : [],\n",
    "    \"avg_touches_paint\" : [],\n",
    "    \"avg_touches_time\" :[] ,\n",
    "    \"avg_tov\" : [],\n",
    "    \"avg_fta\" : [],\n",
    "    \"avg_ft_player\" : [] ,\n",
    "    \"avg_fouls\": []\n",
    "}\n",
    "\n",
    "do_not_change_na = [\n",
    "    \"iso_pts\",\n",
    "    \"iso_actions\",\n",
    "    \"pick_pts\",\n",
    "    \"pick_actions\",\n",
    "    \"post_pts\",\n",
    "    \"post_actions\",\n",
    "    \"offBall_pts\",\n",
    "    \"offBall_actions\",\n",
    "    \"touches_time\"\n",
    "]"
   ]
  },
  {
   "cell_type": "code",
   "execution_count": null,
   "metadata": {},
   "outputs": [],
   "source": [
    "\"\"\" This function gathers all of the players' average for each stat across all of their\n",
    "matchups, and stores those stats into one list, called curr_player_stats\"\"\"\n",
    "\n",
    "all_stats_avg = [[] for _ in range(25)]\n",
    "repeat_tracker = 0\n",
    "for player in players.player_defMatchup_a:\n",
    "    if(player == \"Thomas, Joseph\") or (player == \"Schubert, Christian\"):    \n",
    "        if (player == \"Thomas, Joseph\"):\n",
    "            if(repeat_tracker == 73):\n",
    "                player_data = df.iloc[244846:247015, :]\n",
    "            else:\n",
    "                player_data = df[df[\"player_defMatchup_a\"] == player]\n",
    "        if (player == \"Schubert, Christian\"):\n",
    "            if(repeat_tracker == 96):\n",
    "                player_data = df.iloc[323537:326948, :]\n",
    "            else:\n",
    "                player_data = df[df[\"player_defMatchup_a\"] == player]\n",
    "    else:\n",
    "        player_data = df[df[\"player_defMatchup_a\"] == player]\n",
    "    curr_player_stats_avg = []\n",
    "    for stat in player_stats_list:\n",
    "        if stat not in do_not_change_na:\n",
    "            player_data.loc[:,f'{stat}'].fillna(0)\n",
    "        curr_player_stats_avg.append(np.round(np.nanmean(player_data[stat]), 3))\n",
    "    \n",
    "    for index in range(len(curr_player_stats_avg)):\n",
    "        all_stats_avg[index].append(curr_player_stats_avg[index])\n",
    "    repeat_tracker+=1;"
   ]
  }
 ],
 "metadata": {
  "kernelspec": {
   "display_name": ".venv",
   "language": "python",
   "name": "python3"
  },
  "language_info": {
   "codemirror_mode": {
    "name": "ipython",
    "version": 3
   },
   "file_extension": ".py",
   "mimetype": "text/x-python",
   "name": "python",
   "nbconvert_exporter": "python",
   "pygments_lexer": "ipython3",
   "version": "3.10.2"
  },
  "orig_nbformat": 4
 },
 "nbformat": 4,
 "nbformat_minor": 2
}
