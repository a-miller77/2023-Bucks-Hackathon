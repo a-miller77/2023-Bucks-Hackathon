{
 "cells": [
  {
   "cell_type": "code",
   "execution_count": 59,
   "metadata": {},
   "outputs": [],
   "source": [
    "import pandas as pd\n",
    "import numpy as np\n",
    "import matplotlib.pyplot as plt\n",
    "\n",
    "df = pd.read_csv('filtered_sets/only_nading_matchups.csv')\n",
    "\n",
    "#df = pd.read_csv('filtered_sets/player_averages.csv')\n",
    "name = np.array(['Free_Throw%', 'Field_Goal%', '2pt%', '3pt%'])#, 'Iso', 'Pick', 'Post', 'Offball', 'AT_Ratio', 'TT_ratio'])#, 'TP_Ratio', 'SQavg'])\n",
    "top = np.array(['ft_player', 'fg', 'empty', 'fg3'])#, 'iso_pts', 'pick_pts', 'post_pts', 'offBall_pts', 'tov', 'tov'])#, 'tov', 'qsq'])\n",
    "bottom = np.array(['fta', 'fga', 'empty', 'fga3'])#, 'iso_actions', 'pick_actions', 'post_actions', 'offBall_actions', 'assistOppCreated', 'touches'])#, 'poss', 'poss'])"
   ]
  },
  {
   "cell_type": "code",
   "execution_count": 60,
   "metadata": {},
   "outputs": [],
   "source": [
    "def create_stats_column(df, i, top=top, bottom=bottom, multi_var=False):\n",
    "    top = top[i]\n",
    "    bottom = bottom[i]\n",
    "    row = np.zeros(0, dtype=float)\n",
    "    for j in range(np.shape(df)[0]):\n",
    "        if(multi_var):\n",
    "            #print('2pt%' if name[i] != '2pt%' else 'multi')\n",
    "            num = df['fg'].iloc[j] - df['fg3'].iloc[j]\n",
    "            denom = df['fga'].iloc[j] - df['fga3'].iloc[j]\n",
    "            result = num/denom\n",
    "        else:\n",
    "            result = df[f'{top}'].iloc[j]/df[f'{bottom}'].iloc[j]\n",
    "        row = np.append(row, [result])\n",
    "    return row\n",
    "\n",
    "def update_df(df, top=top, bottom=bottom):\n",
    "    for i in range(len(name)):\n",
    "        name_temp = name[i]\n",
    "        #print(name_temp, name[i])\n",
    "        data = pd.DataFrame({f'{name_temp}': create_stats_column(df, i, top, bottom, multi_var=(True if name[i] == '2pt%' else False))})\n",
    "        df = pd.concat([df, data], axis=1)\n",
    "    print(np.shape(df))\n",
    "    return df"
   ]
  },
  {
   "cell_type": "code",
   "execution_count": 62,
   "metadata": {},
   "outputs": [
    {
     "name": "stderr",
     "output_type": "stream",
     "text": [
      "C:\\Users\\milleraa\\AppData\\Local\\Temp\\ipykernel_9656\\3145555192.py:12: RuntimeWarning: invalid value encountered in scalar divide\n",
      "  result = df[f'{top}'].iloc[j]/df[f'{bottom}'].iloc[j]\n",
      "C:\\Users\\milleraa\\AppData\\Local\\Temp\\ipykernel_9656\\3145555192.py:10: RuntimeWarning: invalid value encountered in scalar divide\n",
      "  result = num/denom\n",
      "C:\\Users\\milleraa\\AppData\\Local\\Temp\\ipykernel_9656\\3145555192.py:12: RuntimeWarning: invalid value encountered in scalar divide\n",
      "  result = df[f'{top}'].iloc[j]/df[f'{bottom}'].iloc[j]\n"
     ]
    },
    {
     "name": "stdout",
     "output_type": "stream",
     "text": [
      "(1669, 35)\n"
     ]
    }
   ],
   "source": [
    "nd = update_df(df.copy())\n",
    "nd3pt = nd[nd['3pt%'] > 0.01]\n",
    "nd2pt = nd[nd['2pt%'] > 0.01]\n",
    "#df[['player_defMatchup_a', 'player_defMatchup_ht', 'Free_Throw%', '2pt%', '3pt%']].head(30)"
   ]
  },
  {
   "cell_type": "code",
   "execution_count": 54,
   "metadata": {},
   "outputs": [
    {
     "data": {
      "text/html": [
       "<div>\n",
       "<style scoped>\n",
       "    .dataframe tbody tr th:only-of-type {\n",
       "        vertical-align: middle;\n",
       "    }\n",
       "\n",
       "    .dataframe tbody tr th {\n",
       "        vertical-align: top;\n",
       "    }\n",
       "\n",
       "    .dataframe thead th {\n",
       "        text-align: right;\n",
       "    }\n",
       "</style>\n",
       "<table border=\"1\" class=\"dataframe\">\n",
       "  <thead>\n",
       "    <tr style=\"text-align: right;\">\n",
       "      <th></th>\n",
       "      <th>player_defMatchup_a</th>\n",
       "      <th>player_defMatchup_ht</th>\n",
       "      <th>Free_Throw%</th>\n",
       "      <th>2pt%</th>\n",
       "      <th>3pt%</th>\n",
       "      <th>touches_time</th>\n",
       "    </tr>\n",
       "  </thead>\n",
       "  <tbody>\n",
       "  </tbody>\n",
       "</table>\n",
       "</div>"
      ],
      "text/plain": [
       "Empty DataFrame\n",
       "Columns: [player_defMatchup_a, player_defMatchup_ht, Free_Throw%, 2pt%, 3pt%, touches_time]\n",
       "Index: []"
      ]
     },
     "execution_count": 54,
     "metadata": {},
     "output_type": "execute_result"
    }
   ],
   "source": [
    "nd2pt[['player_defMatchup_a', 'player_defMatchup_ht', 'Free_Throw%', '2pt%', '3pt%', 'touches_time']].head()"
   ]
  },
  {
   "cell_type": "code",
   "execution_count": 51,
   "metadata": {},
   "outputs": [
    {
     "data": {
      "text/html": [
       "<div>\n",
       "<style scoped>\n",
       "    .dataframe tbody tr th:only-of-type {\n",
       "        vertical-align: middle;\n",
       "    }\n",
       "\n",
       "    .dataframe tbody tr th {\n",
       "        vertical-align: top;\n",
       "    }\n",
       "\n",
       "    .dataframe thead th {\n",
       "        text-align: right;\n",
       "    }\n",
       "</style>\n",
       "<table border=\"1\" class=\"dataframe\">\n",
       "  <thead>\n",
       "    <tr style=\"text-align: right;\">\n",
       "      <th></th>\n",
       "      <th>player_defMatchup_a</th>\n",
       "      <th>player_defMatchup_ht</th>\n",
       "      <th>Free_Throw%</th>\n",
       "      <th>2pt%</th>\n",
       "      <th>3pt%</th>\n",
       "    </tr>\n",
       "  </thead>\n",
       "  <tbody>\n",
       "    <tr>\n",
       "      <th>6</th>\n",
       "      <td>Lapointe, Uriah</td>\n",
       "      <td>81</td>\n",
       "      <td>NaN</td>\n",
       "      <td>NaN</td>\n",
       "      <td>1.0</td>\n",
       "    </tr>\n",
       "    <tr>\n",
       "      <th>8</th>\n",
       "      <td>House, Brandyn</td>\n",
       "      <td>76</td>\n",
       "      <td>NaN</td>\n",
       "      <td>NaN</td>\n",
       "      <td>1.0</td>\n",
       "    </tr>\n",
       "    <tr>\n",
       "      <th>21</th>\n",
       "      <td>Lawton, Jeremiah</td>\n",
       "      <td>81</td>\n",
       "      <td>NaN</td>\n",
       "      <td>NaN</td>\n",
       "      <td>1.0</td>\n",
       "    </tr>\n",
       "    <tr>\n",
       "      <th>38</th>\n",
       "      <td>Morser, Cheyenne</td>\n",
       "      <td>79</td>\n",
       "      <td>NaN</td>\n",
       "      <td>NaN</td>\n",
       "      <td>1.0</td>\n",
       "    </tr>\n",
       "    <tr>\n",
       "      <th>79</th>\n",
       "      <td>Morser, Cheyenne</td>\n",
       "      <td>79</td>\n",
       "      <td>NaN</td>\n",
       "      <td>NaN</td>\n",
       "      <td>1.0</td>\n",
       "    </tr>\n",
       "  </tbody>\n",
       "</table>\n",
       "</div>"
      ],
      "text/plain": [
       "   player_defMatchup_a  player_defMatchup_ht  Free_Throw%  2pt%  3pt%\n",
       "6      Lapointe, Uriah                    81          NaN   NaN   1.0\n",
       "8       House, Brandyn                    76          NaN   NaN   1.0\n",
       "21    Lawton, Jeremiah                    81          NaN   NaN   1.0\n",
       "38    Morser, Cheyenne                    79          NaN   NaN   1.0\n",
       "79    Morser, Cheyenne                    79          NaN   NaN   1.0"
      ]
     },
     "execution_count": 51,
     "metadata": {},
     "output_type": "execute_result"
    }
   ],
   "source": [
    "nd3pt[['player_defMatchup_a', 'player_defMatchup_ht', 'Free_Throw%', '2pt%', '3pt%']].head()"
   ]
  },
  {
   "cell_type": "code",
   "execution_count": 27,
   "metadata": {},
   "outputs": [
    {
     "data": {
      "image/png": "[encoded data removed]",
      "text/plain": [
       "<Figure size 640x480 with 1 Axes>"
      ]
     },
     "metadata": {},
     "output_type": "display_data"
    }
   ],
   "source": [
    "# Set the figure size in inches\n",
    "#plt.figure(figsize=(10,6))\n",
    "\n",
    "x_2pt = nd2pt\n",
    "x_3pt = nd3pt\n",
    "\n",
    "y_val = df[['3pt%']]\n",
    "\n",
    "plt.scatter(x_val, y_val, label = \"Nading Efficiency\" )\n",
    "\n",
    "#x = np.array([0, .1, .2, .3])\n",
    "#y1 = np.array([0.8, 0.8, 0.2, 0.2])\n",
    "#y2 = np.array([0, 0, 1, 1])\n",
    "\n",
    "#plt.plot(x, y1, 'o--')\n",
    "#plt.plot(x, y2, 'o--')\n",
    "#plt.fill_between(x, y1, y2, where=(y1 > y2), color='C0', alpha=0.3)\n",
    "#plt.fill_between(x, y1, y2, where=(y1 < y2), color='C1', alpha=0.3)\n",
    "\n",
    "# Set x and y axes labels\n",
    "plt.xlabel('2pt%')\n",
    "plt.ylabel('3pt%')\n",
    "\n",
    "plt.title('Shooting')\n",
    "plt.legend()\n",
    "plt.show()"
   ]
  }
 ],
 "metadata": {
  "kernelspec": {
   "display_name": "venv",
   "language": "python",
   "name": "python3"
  },
  "language_info": {
   "codemirror_mode": {
    "name": "ipython",
    "version": 3
   },
   "file_extension": ".py",
   "mimetype": "text/x-python",
   "name": "python",
   "nbconvert_exporter": "python",
   "pygments_lexer": "ipython3",
   "version": "3.11.1"
  },
  "orig_nbformat": 4
 },
 "nbformat": 4,
 "nbformat_minor": 2
}
